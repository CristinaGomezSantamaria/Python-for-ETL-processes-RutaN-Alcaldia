{
 "cells": [
  {
   "cell_type": "markdown",
   "metadata": {},
   "source": [
    "Pandas\n",
    "===\n",
    "\n",
    "**Juan David Velásquez Henao**  \n",
    "jdvelasq@unal.edu.co   \n",
    "Universidad Nacional de Colombia, Sede Medellín  \n",
    "Facultad de Minas  \n",
    "Medellín, Colombia\n",
    "\n",
    "---\n",
    "\n",
    "Haga click [aquí](https://github.com/jdvelasq/Python-for-ETL-processes/tree/master/) para acceder al repositorio online.\n",
    "\n",
    "Haga click [aquí](http://nbviewer.jupyter.org/github/jdvelasq/Python-for-ETL-processes/tree/master/) para explorar el repositorio usando `nbviewer`. \n",
    "\n",
    "---"
   ]
  },
  {
   "cell_type": "markdown",
   "metadata": {},
   "source": [
    "**Bibliografía**.\n",
    "\n",
    "> [pandas 0.18.1 documentation](http://pandas.pydata.org/pandas-docs/stable/index.html)  \n",
    "[10 Minutes to pandas](http://pandas.pydata.org/pandas-docs/stable/10min.html) "
   ]
  },
  {
   "cell_type": "markdown",
   "metadata": {},
   "source": [
    "# Agrupamiento, agregación y pivote"
   ]
  },
  {
   "cell_type": "markdown",
   "metadata": {},
   "source": [
    "**Preparación de datos.**"
   ]
  },
  {
   "cell_type": "code",
   "execution_count": 1,
   "metadata": {},
   "outputs": [],
   "source": [
    "## importa la librería\n",
    "import pandas\n",
    "import numpy as np\n",
    "\n",
    "pandas.set_option('display.notebook_repr_html', False)"
   ]
  },
  {
   "cell_type": "code",
   "execution_count": 2,
   "metadata": {
    "scrolled": true
   },
   "outputs": [],
   "source": [
    "## Lee el archivo del disco.\n",
    "x = pandas.read_csv('files/iris.csv',\n",
    "                     sep = ',',\n",
    "                     thousands = None,\n",
    "                     decimal = '.')"
   ]
  },
  {
   "cell_type": "markdown",
   "metadata": {},
   "source": [
    "### Agrupamiento\n",
    "Los dataframes de Pandas pueden ser intepretados en ocasiones como tablas de SQL en donde es posible realizar agregaciones y operaciones simples sobre los campos."
   ]
  },
  {
   "cell_type": "code",
   "execution_count": 3,
   "metadata": {},
   "outputs": [
    {
     "data": {
      "text/plain": [
       "  Species  Sepal_Width  Sepal_Length  Petal_Width  Petal_Length\n",
       "0  setosa          3.5           5.1          0.2           1.4\n",
       "1  setosa          3.0           4.9          0.2           1.4\n",
       "2  setosa          3.2           4.7          0.2           1.3\n",
       "3  setosa          3.1           4.6          0.2           1.5\n",
       "4  setosa          3.6           5.0          0.2           1.4"
      ]
     },
     "execution_count": 3,
     "metadata": {},
     "output_type": "execute_result"
    }
   ],
   "source": [
    "## Se agrupa el set de datos por una columna dada\n",
    "x.sort_index(1, ascending = False).head()"
   ]
  },
  {
   "cell_type": "code",
   "execution_count": 4,
   "metadata": {},
   "outputs": [
    {
     "data": {
      "text/plain": [
       "     Sepal_Length  Sepal_Width  Petal_Length  Petal_Width     Species\n",
       "60            5.0          2.0           3.5          1.0  versicolor\n",
       "62            6.0          2.2           4.0          1.0  versicolor\n",
       "119           6.0          2.2           5.0          1.5   virginica\n",
       "68            6.2          2.2           4.5          1.5  versicolor\n",
       "41            4.5          2.3           1.3          0.3      setosa\n",
       "93            5.0          2.3           3.3          1.0  versicolor\n",
       "53            5.5          2.3           4.0          1.3  versicolor\n",
       "87            6.3          2.3           4.4          1.3  versicolor\n",
       "57            4.9          2.4           3.3          1.0  versicolor\n",
       "80            5.5          2.4           3.8          1.1  versicolor"
      ]
     },
     "execution_count": 4,
     "metadata": {},
     "output_type": "execute_result"
    }
   ],
   "source": [
    "## ordena por varias columnas\n",
    "## devuelve los indices de las filas\n",
    "## ordena primero por Sepal.Width y luego por Sepal.Length\n",
    "x.sort_values(by = ['Sepal_Width', 'Sepal_Length']).head(10)"
   ]
  },
  {
   "cell_type": "markdown",
   "metadata": {},
   "source": [
    "La función `groupby` agrega los datos de una o varias columnas en valores únicos de dicho campo, generando subgrupos dentro de cada clase."
   ]
  },
  {
   "cell_type": "code",
   "execution_count": 5,
   "metadata": {
    "scrolled": true
   },
   "outputs": [
    {
     "data": {
      "text/plain": [
       "dict_keys(['setosa', 'versicolor', 'virginica'])"
      ]
     },
     "execution_count": 5,
     "metadata": {},
     "output_type": "execute_result"
    }
   ],
   "source": [
    "## partición por los valores de la columna `Species`\n",
    "y = x.groupby('Species')\n",
    "y.groups.keys()"
   ]
  },
  {
   "cell_type": "code",
   "execution_count": 6,
   "metadata": {},
   "outputs": [
    {
     "data": {
      "text/plain": [
       "3"
      ]
     },
     "execution_count": 6,
     "metadata": {},
     "output_type": "execute_result"
    }
   ],
   "source": [
    "## Cantidad de grupos. Este comando funciona como un select distintc en SQL\n",
    "len(y.groups)"
   ]
  },
  {
   "cell_type": "code",
   "execution_count": 7,
   "metadata": {},
   "outputs": [
    {
     "data": {
      "text/plain": [
       "Species\n",
       "setosa        50\n",
       "versicolor    50\n",
       "virginica     50\n",
       "dtype: int64"
      ]
     },
     "execution_count": 7,
     "metadata": {},
     "output_type": "execute_result"
    }
   ],
   "source": [
    "## Cantidad de grupos. Funciona como un agrupamiento y conteo por la columna Species en SQL.\n",
    "y.size()"
   ]
  },
  {
   "cell_type": "code",
   "execution_count": 8,
   "metadata": {},
   "outputs": [
    {
     "data": {
      "text/plain": [
       "   Sepal_Length  Sepal_Width  Petal_Length  Petal_Width Species\n",
       "0           5.1          3.5           1.4          0.2  setosa\n",
       "1           4.9          3.0           1.4          0.2  setosa\n",
       "2           4.7          3.2           1.3          0.2  setosa\n",
       "3           4.6          3.1           1.5          0.2  setosa\n",
       "4           5.0          3.6           1.4          0.2  setosa"
      ]
     },
     "execution_count": 8,
     "metadata": {},
     "output_type": "execute_result"
    }
   ],
   "source": [
    "## Elementos de un subgrupo agregado.\n",
    "x.loc[y.groups['setosa']].head()"
   ]
  },
  {
   "cell_type": "code",
   "execution_count": 9,
   "metadata": {
    "scrolled": true
   },
   "outputs": [
    {
     "data": {
      "text/plain": [
       "     Sepal_Length  Sepal_Width  Petal_Length  Petal_Width    Species\n",
       "100           6.3          3.3           6.0          2.5  virginica\n",
       "101           5.8          2.7           5.1          1.9  virginica\n",
       "102           7.1          3.0           5.9          2.1  virginica\n",
       "103           6.3          2.9           5.6          1.8  virginica\n",
       "104           6.5          3.0           5.8          2.2  virginica"
      ]
     },
     "execution_count": 9,
     "metadata": {},
     "output_type": "execute_result"
    }
   ],
   "source": [
    "## Elementos de otro subgrupo\n",
    "x.loc[y.groups['virginica']].head()"
   ]
  },
  {
   "cell_type": "markdown",
   "metadata": {},
   "source": [
    "### Agregación"
   ]
  },
  {
   "cell_type": "markdown",
   "metadata": {},
   "source": [
    "Es posible realizar operaciones simples sobre las columnas o filas de un dataframe de Pandas. A continuación algunas de ellas:\n",
    "\n",
    "            _______________________________________________________________\n",
    "            |      Funciones que pueden ser aplicadas a un DataFrame      |\n",
    "            ---------------------------------------------------------------\n",
    "            |abs        all       any       clip    clip_lower  clip_upper|\n",
    "            |corr       corrwith  count     cov     cummax      cummin    |\n",
    "            |cumprod    cumsum    describe  diff    eval        kurt      |\n",
    "            |mad        max       mean      median  min         mode      |\n",
    "            |ct_change  prod      quantile  rank    round       sem       |\n",
    "            |skew  sum  std       var`                                    |\n",
    "            ---------------------------------------------------------------"
   ]
  },
  {
   "cell_type": "code",
   "execution_count": 10,
   "metadata": {
    "scrolled": true
   },
   "outputs": [
    {
     "data": {
      "text/plain": [
       "            Sepal_Length  Sepal_Width  Petal_Length  Petal_Width\n",
       "Species                                                         \n",
       "setosa             250.3        171.4          73.1         12.3\n",
       "versicolor         296.8        138.5         213.0         66.3\n",
       "virginica          329.4        148.7         277.6        101.3"
      ]
     },
     "execution_count": 10,
     "metadata": {},
     "output_type": "execute_result"
    }
   ],
   "source": [
    "## Se aplica la suma de cada columna para cada especie. La salida es un nuevo dataframe.\n",
    "x.groupby('Species').sum()"
   ]
  },
  {
   "cell_type": "code",
   "execution_count": 11,
   "metadata": {},
   "outputs": [
    {
     "data": {
      "text/plain": [
       "Species\n",
       "setosa        250.3\n",
       "versicolor    296.8\n",
       "virginica     329.4\n",
       "Name: Sepal_Length, dtype: float64"
      ]
     },
     "execution_count": 11,
     "metadata": {},
     "output_type": "execute_result"
    }
   ],
   "source": [
    "## Se seleccionan solo para la medida Sepal_Length\n",
    "(x.groupby('Species').sum())[\"Sepal_Length\"]"
   ]
  },
  {
   "cell_type": "code",
   "execution_count": 12,
   "metadata": {},
   "outputs": [
    {
     "data": {
      "text/plain": [
       "versicolor    50\n",
       "setosa        50\n",
       "virginica     50\n",
       "Name: Species, dtype: int64"
      ]
     },
     "execution_count": 12,
     "metadata": {},
     "output_type": "execute_result"
    }
   ],
   "source": [
    "## conteo de casos.\n",
    "## número de casos por `Species`\n",
    "x['Species'].value_counts()"
   ]
  },
  {
   "cell_type": "code",
   "execution_count": 13,
   "metadata": {},
   "outputs": [
    {
     "data": {
      "text/plain": [
       "5.0    10\n",
       "6.3     9\n",
       "5.1     9\n",
       "6.7     8\n",
       "5.7     8\n",
       "5.5     7\n",
       "5.8     7\n",
       "6.4     7\n",
       "6.0     6\n",
       "4.9     6\n",
       "6.1     6\n",
       "5.4     6\n",
       "5.6     6\n",
       "6.5     5\n",
       "4.8     5\n",
       "7.7     4\n",
       "6.9     4\n",
       "5.2     4\n",
       "6.2     4\n",
       "4.6     4\n",
       "7.2     3\n",
       "6.8     3\n",
       "4.4     3\n",
       "5.9     3\n",
       "6.6     2\n",
       "4.7     2\n",
       "7.6     1\n",
       "7.4     1\n",
       "4.3     1\n",
       "7.9     1\n",
       "7.3     1\n",
       "7.0     1\n",
       "4.5     1\n",
       "5.3     1\n",
       "7.1     1\n",
       "Name: Sepal_Length, dtype: int64"
      ]
     },
     "execution_count": 13,
     "metadata": {},
     "output_type": "execute_result"
    }
   ],
   "source": [
    "## conteo de casos por `Sepal.Length`\n",
    "x['Sepal_Length'].value_counts()"
   ]
  },
  {
   "cell_type": "code",
   "execution_count": 14,
   "metadata": {
    "scrolled": false
   },
   "outputs": [
    {
     "data": {
      "text/plain": [
       "Sepal_Length    5.843333\n",
       "Sepal_Width     3.057333\n",
       "dtype: float64"
      ]
     },
     "execution_count": 14,
     "metadata": {},
     "output_type": "execute_result"
    }
   ],
   "source": [
    "## aplicación de una funcion a columnas especificas \n",
    "## de un data.frame\n",
    "import numpy as np\n",
    "x[['Sepal_Length', 'Sepal_Width']].apply(np.mean)"
   ]
  },
  {
   "cell_type": "code",
   "execution_count": 15,
   "metadata": {
    "scrolled": false
   },
   "outputs": [
    {
     "data": {
      "text/plain": [
       "Species\n",
       "setosa        5.006\n",
       "versicolor    5.936\n",
       "virginica     6.588\n",
       "Name: Sepal_Length, dtype: float64"
      ]
     },
     "execution_count": 15,
     "metadata": {},
     "output_type": "execute_result"
    }
   ],
   "source": [
    "## aplica la función a la columna especificada por grupos\n",
    "(x.groupby('Species').mean())[\"Sepal_Length\"]"
   ]
  },
  {
   "cell_type": "code",
   "execution_count": 16,
   "metadata": {
    "scrolled": true
   },
   "outputs": [
    {
     "data": {
      "text/plain": [
       "            Sepal_Length  Sepal_Width  Petal_Length  Petal_Width\n",
       "Species                                                         \n",
       "setosa             5.006        3.428         1.462        0.246\n",
       "versicolor         5.936        2.770         4.260        1.326\n",
       "virginica          6.588        2.974         5.552        2.026"
      ]
     },
     "execution_count": 16,
     "metadata": {},
     "output_type": "execute_result"
    }
   ],
   "source": [
    "## aplica la función a la columna especificada por grupos\n",
    "(x.groupby('Species').mean())[[\"Sepal_Length\", \n",
    "                               \"Sepal_Width\",\n",
    "                               \"Petal_Length\",\n",
    "                               \"Petal_Width\"]]"
   ]
  },
  {
   "cell_type": "code",
   "execution_count": 17,
   "metadata": {
    "scrolled": false
   },
   "outputs": [
    {
     "data": {
      "text/plain": [
       "versicolor    50\n",
       "setosa        50\n",
       "virginica     50\n",
       "Name: Species, dtype: int64"
      ]
     },
     "execution_count": 17,
     "metadata": {},
     "output_type": "execute_result"
    }
   ],
   "source": [
    "## UNION\n",
    "z = pandas.concat( [x.iloc[y.groups['setosa']],\n",
    "                    x.iloc[y.groups['virginica']],\n",
    "                    x.iloc[y.groups['versicolor']]])\n",
    "\n",
    "z['Species'].value_counts()"
   ]
  },
  {
   "cell_type": "markdown",
   "metadata": {},
   "source": [
    "### Pivotes\n",
    "Los pivotes consisten en obtener varias columnas como index y operar a partir de las que permanecen dinámicas para apilarlas."
   ]
  },
  {
   "cell_type": "code",
   "execution_count": 18,
   "metadata": {},
   "outputs": [
    {
     "data": {
      "text/plain": [
       "   Sepal_Length  Sepal_Width  Petal_Length  Petal_Width Species  key\n",
       "0           5.1          3.5           1.4          0.2  setosa    0\n",
       "1           4.9          3.0           1.4          0.2  setosa    1\n",
       "2           4.7          3.2           1.3          0.2  setosa    2\n",
       "3           4.6          3.1           1.5          0.2  setosa    3\n",
       "4           5.0          3.6           1.4          0.2  setosa    4"
      ]
     },
     "execution_count": 18,
     "metadata": {},
     "output_type": "execute_result"
    }
   ],
   "source": [
    "## Agrega una clave para identificar cada caso, es decir, cada registro\n",
    "x['key'] = list(range(150))\n",
    "x.head()"
   ]
  },
  {
   "cell_type": "code",
   "execution_count": 19,
   "metadata": {},
   "outputs": [],
   "source": [
    "z = pandas.melt(x,                            # DataFrame\n",
    "                id_vars = ['key', 'Species'], # columnas que no se apilan\n",
    "                var_name = 'Variables',       # nombre de la columna que contiene las columnas apiladas \n",
    "                value_name = 'Valores')       # nombre de la columna que contiene los valores"
   ]
  },
  {
   "cell_type": "code",
   "execution_count": 20,
   "metadata": {},
   "outputs": [
    {
     "data": {
      "text/plain": [
       "   key Species     Variables  Valores\n",
       "0    0  setosa  Sepal_Length      5.1\n",
       "1    1  setosa  Sepal_Length      4.9\n",
       "2    2  setosa  Sepal_Length      4.7\n",
       "3    3  setosa  Sepal_Length      4.6\n",
       "4    4  setosa  Sepal_Length      5.0"
      ]
     },
     "execution_count": 20,
     "metadata": {},
     "output_type": "execute_result"
    }
   ],
   "source": [
    "z.head()"
   ]
  },
  {
   "cell_type": "code",
   "execution_count": 21,
   "metadata": {},
   "outputs": [],
   "source": [
    "del x['key']"
   ]
  },
  {
   "cell_type": "markdown",
   "metadata": {},
   "source": [
    "# Transformaciones"
   ]
  },
  {
   "cell_type": "markdown",
   "metadata": {},
   "source": [
    "**Preparación de datos.**"
   ]
  },
  {
   "cell_type": "code",
   "execution_count": 22,
   "metadata": {},
   "outputs": [],
   "source": [
    "## importa la librería\n",
    "import pandas\n",
    "import numpy as np\n",
    "\n",
    "pandas.set_option('display.notebook_repr_html', False)"
   ]
  },
  {
   "cell_type": "code",
   "execution_count": 23,
   "metadata": {
    "scrolled": true
   },
   "outputs": [],
   "source": [
    "## lee el archivo del disco.\n",
    "x = pandas.read_csv('files/iris.csv',\n",
    "                     sep = ',',\n",
    "                     thousands = None,\n",
    "                     decimal = '.')"
   ]
  },
  {
   "cell_type": "markdown",
   "metadata": {},
   "source": [
    "### Stack & unstack\n",
    "La función `stack` permite reunir el dataframe con varias columnas de index mientras `unstack` expande desagrupa los index y agrega mayor número de columnas que de pivotes."
   ]
  },
  {
   "cell_type": "code",
   "execution_count": 24,
   "metadata": {
    "scrolled": false
   },
   "outputs": [
    {
     "data": {
      "text/plain": [
       "0  Sepal_Length       5.1\n",
       "   Sepal_Width        3.5\n",
       "   Petal_Length       1.4\n",
       "   Petal_Width        0.2\n",
       "   Species         setosa\n",
       "1  Sepal_Length       4.9\n",
       "   Sepal_Width          3\n",
       "   Petal_Length       1.4\n",
       "   Petal_Width        0.2\n",
       "   Species         setosa\n",
       "2  Sepal_Length       4.7\n",
       "   Sepal_Width        3.2\n",
       "   Petal_Length       1.3\n",
       "   Petal_Width        0.2\n",
       "   Species         setosa\n",
       "3  Sepal_Length       4.6\n",
       "   Sepal_Width        3.1\n",
       "   Petal_Length       1.5\n",
       "   Petal_Width        0.2\n",
       "   Species         setosa\n",
       "dtype: object"
      ]
     },
     "execution_count": 24,
     "metadata": {},
     "output_type": "execute_result"
    }
   ],
   "source": [
    "x.stack().head(20)"
   ]
  },
  {
   "cell_type": "code",
   "execution_count": 25,
   "metadata": {},
   "outputs": [
    {
     "data": {
      "text/plain": [
       "  Sepal_Length Sepal_Width Petal_Length Petal_Width Species\n",
       "0          5.1         3.5          1.4         0.2  setosa\n",
       "1          4.9           3          1.4         0.2  setosa\n",
       "2          4.7         3.2          1.3         0.2  setosa\n",
       "3          4.6         3.1          1.5         0.2  setosa"
      ]
     },
     "execution_count": 25,
     "metadata": {},
     "output_type": "execute_result"
    }
   ],
   "source": [
    "(x.stack()).unstack().head(4)"
   ]
  },
  {
   "cell_type": "markdown",
   "metadata": {},
   "source": [
    "### Tablas dinámicas\n",
    "Así como se crean algunas columnas pivote, es posible asimilar las agrupaciones a las tablas dinámicas de Excel a través de una tabla pivote."
   ]
  },
  {
   "cell_type": "code",
   "execution_count": 26,
   "metadata": {},
   "outputs": [
    {
     "name": "stdout",
     "output_type": "stream",
     "text": [
      "  key1 key2  values1  values2\n",
      "0    a    A        1        7\n",
      "1    a    B        2        8\n",
      "2    b    A        3        9\n",
      "3    b    B        4       10\n",
      "4    c    A        5       11\n",
      "5    c    B        6       12\n"
     ]
    }
   ],
   "source": [
    "m = pandas.DataFrame( {'key1'    : ['a', 'a', 'b', 'b', 'c', 'c'],\n",
    "                       'key2'    : ['A', 'B', 'A', 'B', 'A', 'B'],\n",
    "                       'values1' : [ 1,   2,   3,   4,   5,   6 ],\n",
    "                       'values2' : [ 7,   8,   9,  10,  11,  12]})\n",
    "print(m)"
   ]
  },
  {
   "cell_type": "code",
   "execution_count": 27,
   "metadata": {},
   "outputs": [
    {
     "name": "stdout",
     "output_type": "stream",
     "text": [
      "           values1  values2\n",
      "key1 key2                  \n",
      "a    A           1        7\n",
      "     B           2        8\n",
      "b    A           3        9\n",
      "     B           4       10\n",
      "c    A           5       11\n",
      "     B           6       12\n"
     ]
    }
   ],
   "source": [
    "## Se crea el pivote\n",
    "z = pandas.pivot_table(m, \n",
    "                       index = ['key1', 'key2'],\n",
    "                       values = ['values1', 'values2'])\n",
    "\n",
    "print(z)"
   ]
  },
  {
   "cell_type": "markdown",
   "metadata": {},
   "source": [
    "### Unión\n",
    "La unión de dos dataframe de Pandas es posible realizarlo a través de la función `merge`, la cual funciona cuando una de las dos tablas tiene un número de filas múltiplo del otro."
   ]
  },
  {
   "cell_type": "code",
   "execution_count": 28,
   "metadata": {},
   "outputs": [
    {
     "data": {
      "text/plain": [
       "   x  y   w\n",
       "0  1  6  10\n",
       "1  1  6  60\n",
       "2  2  7  20\n",
       "3  2  7  70\n",
       "4  3  8  30\n",
       "5  3  8  80\n",
       "6  4  9  40\n",
       "7  4  9  90"
      ]
     },
     "execution_count": 28,
     "metadata": {},
     "output_type": "execute_result"
    }
   ],
   "source": [
    "d1 = pandas.DataFrame({ 'x' : list(range(1,5)),\n",
    "                        'y' : list(range(6,10))})\n",
    "\n",
    "d2 = pandas.DataFrame({ 'x' : [ 1,  2,  3,  4,  5,  1,  2,  3,  4,   5],\n",
    "                        'w' : [10, 20, 30, 40, 50, 60, 70, 80, 90, 100]})\n",
    "\n",
    "pandas.merge(d1, d2)"
   ]
  },
  {
   "cell_type": "markdown",
   "metadata": {},
   "source": [
    "### Variables dummy"
   ]
  },
  {
   "cell_type": "code",
   "execution_count": 29,
   "metadata": {
    "scrolled": false
   },
   "outputs": [
    {
     "data": {
      "text/plain": [
       "     setosa  versicolor  virginica\n",
       "0         1           0          0\n",
       "1         1           0          0\n",
       "2         1           0          0\n",
       "3         1           0          0\n",
       "4         1           0          0\n",
       "5         1           0          0\n",
       "6         1           0          0\n",
       "7         1           0          0\n",
       "8         1           0          0\n",
       "9         1           0          0\n",
       "10        1           0          0\n",
       "11        1           0          0\n",
       "12        1           0          0\n",
       "13        1           0          0\n",
       "14        1           0          0\n",
       "15        1           0          0\n",
       "16        1           0          0\n",
       "17        1           0          0\n",
       "18        1           0          0\n",
       "19        1           0          0\n",
       "20        1           0          0\n",
       "21        1           0          0\n",
       "22        1           0          0\n",
       "23        1           0          0\n",
       "24        1           0          0\n",
       "25        1           0          0\n",
       "26        1           0          0\n",
       "27        1           0          0\n",
       "28        1           0          0\n",
       "29        1           0          0\n",
       "..      ...         ...        ...\n",
       "120       0           0          1\n",
       "121       0           0          1\n",
       "122       0           0          1\n",
       "123       0           0          1\n",
       "124       0           0          1\n",
       "125       0           0          1\n",
       "126       0           0          1\n",
       "127       0           0          1\n",
       "128       0           0          1\n",
       "129       0           0          1\n",
       "130       0           0          1\n",
       "131       0           0          1\n",
       "132       0           0          1\n",
       "133       0           0          1\n",
       "134       0           0          1\n",
       "135       0           0          1\n",
       "136       0           0          1\n",
       "137       0           0          1\n",
       "138       0           0          1\n",
       "139       0           0          1\n",
       "140       0           0          1\n",
       "141       0           0          1\n",
       "142       0           0          1\n",
       "143       0           0          1\n",
       "144       0           0          1\n",
       "145       0           0          1\n",
       "146       0           0          1\n",
       "147       0           0          1\n",
       "148       0           0          1\n",
       "149       0           0          1\n",
       "\n",
       "[150 rows x 3 columns]"
      ]
     },
     "execution_count": 29,
     "metadata": {},
     "output_type": "execute_result"
    }
   ],
   "source": [
    "## Se genera variables dummies para variables categóricas.\n",
    "pandas.get_dummies(x.Species)"
   ]
  },
  {
   "cell_type": "markdown",
   "metadata": {},
   "source": [
    "# Inserción, borrado, casos duplicados y datos faltantes"
   ]
  },
  {
   "cell_type": "markdown",
   "metadata": {},
   "source": [
    "**Preparación de datos**"
   ]
  },
  {
   "cell_type": "code",
   "execution_count": 30,
   "metadata": {},
   "outputs": [],
   "source": [
    "## importa la librería\n",
    "import pandas\n",
    "import numpy as np\n",
    "\n",
    "pandas.set_option('display.notebook_repr_html', False)"
   ]
  },
  {
   "cell_type": "code",
   "execution_count": 31,
   "metadata": {
    "scrolled": true
   },
   "outputs": [],
   "source": [
    "## lee el archivo del disco.\n",
    "x = pandas.read_csv('files/iris.csv',\n",
    "                     sep = ',',\n",
    "                     thousands = None,\n",
    "                     decimal = '.')"
   ]
  },
  {
   "cell_type": "markdown",
   "metadata": {},
   "source": [
    "### Inserción de columnas\n",
    "Para modificar o generar valores nuevos a una columna, se debe indexar."
   ]
  },
  {
   "cell_type": "code",
   "execution_count": 32,
   "metadata": {
    "scrolled": true
   },
   "outputs": [
    {
     "data": {
      "text/plain": [
       "   Sepal_Length  Sepal_Width  Petal_Length  Petal_Width Species  n\n",
       "0           5.1          3.5           1.4          0.2  setosa  1\n",
       "1           4.9          3.0           1.4          0.2  setosa  1\n",
       "2           4.7          3.2           1.3          0.2  setosa  1\n",
       "3           4.6          3.1           1.5          0.2  setosa  1\n",
       "4           5.0          3.6           1.4          0.2  setosa  1"
      ]
     },
     "execution_count": 32,
     "metadata": {},
     "output_type": "execute_result"
    }
   ],
   "source": [
    "## creación de una nueva columna\n",
    "x['n'] = 1 \n",
    "x.head()"
   ]
  },
  {
   "cell_type": "code",
   "execution_count": 33,
   "metadata": {},
   "outputs": [
    {
     "data": {
      "text/plain": [
       "   Sepal_Length  Sepal_Width  Petal_Length  Petal_Width Species   n\n",
       "0           5.1          3.5           1.4          0.2  setosa  10\n",
       "1           4.9          3.0           1.4          0.2  setosa   1\n",
       "2           4.7          3.2           1.3          0.2  setosa   1\n",
       "3           4.6          3.1           1.5          0.2  setosa   1\n",
       "4           5.0          3.6           1.4          0.2  setosa   1"
      ]
     },
     "execution_count": 33,
     "metadata": {},
     "output_type": "execute_result"
    }
   ],
   "source": [
    "## Modificación de un valor particular\n",
    "x.iat[0,5] = 10\n",
    "x.head()"
   ]
  },
  {
   "cell_type": "code",
   "execution_count": 34,
   "metadata": {
    "scrolled": true
   },
   "outputs": [
    {
     "data": {
      "text/plain": [
       "   Sepal_Length  Sepal_Width  Petal_Length  Petal_Width Species  n\n",
       "0           5.1          3.5           1.4          0.2  setosa  0\n",
       "1           4.9          3.0           1.4          0.2  setosa  1\n",
       "2           4.7          3.2           1.3          0.2  setosa  2\n",
       "3           4.6          3.1           1.5          0.2  setosa  3\n",
       "4           5.0          3.6           1.4          0.2  setosa  4"
      ]
     },
     "execution_count": 34,
     "metadata": {},
     "output_type": "execute_result"
    }
   ],
   "source": [
    "## Modificación de una columna\n",
    "x['n'] = list(range(150))\n",
    "x.head()"
   ]
  },
  {
   "cell_type": "code",
   "execution_count": 35,
   "metadata": {
    "scrolled": true
   },
   "outputs": [
    {
     "data": {
      "text/plain": [
       "   Sepal_Length  Sepal_Width  Petal_Length  Petal_Width Species\n",
       "0           5.1          3.5           1.4          0.2  setosa\n",
       "1           4.9          3.0           1.4          0.2  setosa\n",
       "2           4.7          3.2           1.3          0.2  setosa\n",
       "3           4.6          3.1           1.5          0.2  setosa\n",
       "4           5.0          3.6           1.4          0.2  setosa"
      ]
     },
     "execution_count": 35,
     "metadata": {},
     "output_type": "execute_result"
    }
   ],
   "source": [
    "## Borrado de la columna\n",
    "del x['n']\n",
    "x.head()"
   ]
  },
  {
   "cell_type": "code",
   "execution_count": 36,
   "metadata": {
    "scrolled": true
   },
   "outputs": [
    {
     "data": {
      "text/plain": [
       "   Sepal_Length  Sepal_Width  logical_value  Petal_Length  Petal_Width Species\n",
       "0           5.1          3.5           True           1.4          0.2  setosa\n",
       "1           4.9          3.0           True           1.4          0.2  setosa\n",
       "2           4.7          3.2           True           1.3          0.2  setosa\n",
       "3           4.6          3.1           True           1.5          0.2  setosa\n",
       "4           5.0          3.6           True           1.4          0.2  setosa"
      ]
     },
     "execution_count": 36,
     "metadata": {},
     "output_type": "execute_result"
    }
   ],
   "source": [
    "## los DataFrames son diccionarios y pueden manipularse como tal\n",
    "## se indica en que posicion se inserta la columna con valores \n",
    "## lógicos\n",
    "x.insert(2, 'logical_value', x['Sepal_Length'] > 4)\n",
    "x.head()"
   ]
  },
  {
   "cell_type": "code",
   "execution_count": 37,
   "metadata": {
    "scrolled": true
   },
   "outputs": [
    {
     "data": {
      "text/plain": [
       "   Sepal_Length  Sepal_Width  Petal_Length  Petal_Width Species\n",
       "0           5.1          3.5           1.4          0.2  setosa\n",
       "1           4.9          3.0           1.4          0.2  setosa\n",
       "2           4.7          3.2           1.3          0.2  setosa\n",
       "3           4.6          3.1           1.5          0.2  setosa\n",
       "4           5.0          3.6           1.4          0.2  setosa"
      ]
     },
     "execution_count": 37,
     "metadata": {},
     "output_type": "execute_result"
    }
   ],
   "source": [
    "del x['logical_value']\n",
    "x.head()"
   ]
  },
  {
   "cell_type": "code",
   "execution_count": 38,
   "metadata": {},
   "outputs": [
    {
     "name": "stdout",
     "output_type": "stream",
     "text": [
      "   colA  colB\n",
      "0     1     3\n",
      "1     2     4\n",
      "\n",
      "   colB  colC\n",
      "0     5     7\n",
      "1     6     8\n",
      "\n",
      "   colA  colB  colC\n",
      "0   NaN     8   NaN\n",
      "1   NaN    10   NaN\n"
     ]
    }
   ],
   "source": [
    "## Alineación\n",
    "## Suma las columnas colB\n",
    "a = pandas.DataFrame({'colA': [1, 2],\n",
    "                      'colB': [3, 4]})\n",
    "\n",
    "b = pandas.DataFrame({'colB': [5, 6],\n",
    "                      'colC': [7, 8]})\n",
    "\n",
    "print(a)\n",
    "print('')\n",
    "print(b)\n",
    "print('')\n",
    "print(a + b)"
   ]
  },
  {
   "cell_type": "code",
   "execution_count": 39,
   "metadata": {},
   "outputs": [
    {
     "data": {
      "text/plain": [
       "       colA      colB\n",
       "0  1.000000  1.732051\n",
       "1  1.414214  2.000000"
      ]
     },
     "execution_count": 39,
     "metadata": {},
     "output_type": "execute_result"
    }
   ],
   "source": [
    "## se pueden aplicar todas las operaciones matemáticas \n",
    "## existentes en numpy\n",
    "np.sqrt(a)"
   ]
  },
  {
   "cell_type": "markdown",
   "metadata": {},
   "source": [
    "### Inserción de filas"
   ]
  },
  {
   "cell_type": "code",
   "execution_count": 40,
   "metadata": {
    "scrolled": true
   },
   "outputs": [
    {
     "data": {
      "text/plain": [
       "     Sepal_Length  Sepal_Width  Petal_Length  Petal_Width    Species\n",
       "146           6.3          2.5           5.0          1.9  virginica\n",
       "147           6.5          3.0           5.2          2.0  virginica\n",
       "148           6.2          3.4           5.4          2.3  virginica\n",
       "149           5.9          3.0           5.1          1.8  virginica\n",
       "150           1.0          1.0           1.0          1.0     setosa"
      ]
     },
     "execution_count": 40,
     "metadata": {},
     "output_type": "execute_result"
    }
   ],
   "source": [
    "## Adición de una fila (al final)\n",
    "u = pandas.DataFrame({'Sepal_Length' : [1], \n",
    "                      'Sepal_Width' : [1], \n",
    "                      'Petal_Length' : [1], \n",
    "                      'Petal_Width' : [1], \n",
    "                      'Species' : ['setosa']})\n",
    "\n",
    "x.append(u, ignore_index = True).tail()"
   ]
  },
  {
   "cell_type": "markdown",
   "metadata": {},
   "source": [
    "### Casos duplicados y datos faltantes"
   ]
  },
  {
   "cell_type": "code",
   "execution_count": 41,
   "metadata": {},
   "outputs": [
    {
     "data": {
      "text/plain": [
       "array([140,  93,  26,  30, 103,   9,  68,  18, 149,  89,   5,   1,  31,\n",
       "        94,  74,  87,  90, 124,  63,  28])"
      ]
     },
     "execution_count": 41,
     "metadata": {},
     "output_type": "execute_result"
    }
   ],
   "source": [
    "## Se crea un vector aleatorio de indices\n",
    "u = np.random.choice(range(150), \n",
    "                     size=20, \n",
    "                     replace=False)\n",
    "u"
   ]
  },
  {
   "cell_type": "code",
   "execution_count": 42,
   "metadata": {},
   "outputs": [
    {
     "data": {
      "text/plain": [
       "     Sepal_Length  Sepal_Width  Petal_Length  Petal_Width     Species\n",
       "140           6.7          3.1           5.6          2.4   virginica\n",
       "93            5.0          2.3           3.3          1.0  versicolor\n",
       "26            5.0          3.4           1.6          0.4      setosa\n",
       "30            4.8          3.1           1.6          0.2      setosa\n",
       "103           6.3          2.9           5.6          1.8   virginica"
      ]
     },
     "execution_count": 42,
     "metadata": {},
     "output_type": "execute_result"
    }
   ],
   "source": [
    "## Submuestra de data.frame original `x`\n",
    "y = x.loc[u].copy()\n",
    "y.head()"
   ]
  },
  {
   "cell_type": "code",
   "execution_count": 43,
   "metadata": {},
   "outputs": [
    {
     "data": {
      "text/plain": [
       "    Sepal_Length  Sepal_Width  Petal_Length  Petal_Width     Species\n",
       "0            6.7          3.1           5.6          2.4   virginica\n",
       "1            5.0          2.3           3.3          1.0  versicolor\n",
       "2            5.0          3.4           1.6          0.4      setosa\n",
       "3            4.8          3.1           1.6          0.2      setosa\n",
       "4            6.3          2.9           5.6          1.8   virginica\n",
       "5            4.9          3.1           1.5          0.1      setosa\n",
       "6            6.2          2.2           4.5          1.5  versicolor\n",
       "7            5.7          3.8           1.7          0.3      setosa\n",
       "8            5.9          3.0           5.1          1.8   virginica\n",
       "9            5.5          2.5           4.0          1.3  versicolor\n",
       "10           5.4          3.9           1.7          0.4      setosa\n",
       "11           4.9          3.0           1.4          0.2      setosa\n",
       "12           5.4          3.4           1.5          0.4      setosa\n",
       "13           5.6          2.7           4.2          1.3  versicolor\n",
       "14           6.4          2.9           4.3          1.3  versicolor\n",
       "15           6.3          2.3           4.4          1.3  versicolor\n",
       "16           5.5          2.6           4.4          1.2  versicolor\n",
       "17           6.7          3.3           5.7          2.1   virginica\n",
       "18           6.1          2.9           4.7          1.4  versicolor\n",
       "19           5.2          3.4           1.4          0.2      setosa"
      ]
     },
     "execution_count": 43,
     "metadata": {},
     "output_type": "execute_result"
    }
   ],
   "source": [
    "## Se cambian los nombres de las filas \n",
    "y.index = list(range(20))\n",
    "y"
   ]
  },
  {
   "cell_type": "code",
   "execution_count": 44,
   "metadata": {},
   "outputs": [
    {
     "data": {
      "text/plain": [
       "array([11,  6,  0, 16, 18,  2,  3, 13,  4, 15])"
      ]
     },
     "execution_count": 44,
     "metadata": {},
     "output_type": "execute_result"
    }
   ],
   "source": [
    "## De la submuestra `y` se hacen varios registros incompletos\n",
    "## cambiando varios valores en la columna `Sepal.Length` por NA\n",
    "u = np.random.choice(range(20), size=10, replace=False)\n",
    "u"
   ]
  },
  {
   "cell_type": "code",
   "execution_count": 45,
   "metadata": {},
   "outputs": [
    {
     "data": {
      "text/plain": [
       "    Sepal_Length  Sepal_Width  Petal_Length  Petal_Width     Species\n",
       "11           4.9          3.0           1.4          0.2      setosa\n",
       "6            6.2          2.2           4.5          1.5  versicolor\n",
       "0            6.7          3.1           5.6          2.4   virginica\n",
       "16           5.5          2.6           4.4          1.2  versicolor\n",
       "18           6.1          2.9           4.7          1.4  versicolor\n",
       "2            5.0          3.4           1.6          0.4      setosa\n",
       "3            4.8          3.1           1.6          0.2      setosa\n",
       "13           5.6          2.7           4.2          1.3  versicolor\n",
       "4            6.3          2.9           5.6          1.8   virginica\n",
       "15           6.3          2.3           4.4          1.3  versicolor"
      ]
     },
     "execution_count": 45,
     "metadata": {},
     "output_type": "execute_result"
    }
   ],
   "source": [
    "y.iloc[u]"
   ]
  },
  {
   "cell_type": "code",
   "execution_count": 46,
   "metadata": {},
   "outputs": [
    {
     "data": {
      "text/plain": [
       "    Sepal_Length  Sepal_Width  Petal_Length  Petal_Width     Species\n",
       "0            NaN          3.1           5.6          2.4   virginica\n",
       "1            5.0          2.3           3.3          1.0  versicolor\n",
       "2            NaN          3.4           1.6          0.4      setosa\n",
       "3            NaN          3.1           1.6          0.2      setosa\n",
       "4            NaN          2.9           5.6          1.8   virginica\n",
       "5            4.9          3.1           1.5          0.1      setosa\n",
       "6            NaN          2.2           4.5          1.5  versicolor\n",
       "7            5.7          3.8           1.7          0.3      setosa\n",
       "8            5.9          3.0           5.1          1.8   virginica\n",
       "9            5.5          2.5           4.0          1.3  versicolor\n",
       "10           5.4          3.9           1.7          0.4      setosa\n",
       "11           NaN          3.0           1.4          0.2      setosa\n",
       "12           5.4          3.4           1.5          0.4      setosa\n",
       "13           NaN          2.7           4.2          1.3  versicolor\n",
       "14           6.4          2.9           4.3          1.3  versicolor\n",
       "15           NaN          2.3           4.4          1.3  versicolor\n",
       "16           NaN          2.6           4.4          1.2  versicolor\n",
       "17           6.7          3.3           5.7          2.1   virginica\n",
       "18           NaN          2.9           4.7          1.4  versicolor\n",
       "19           5.2          3.4           1.4          0.2      setosa"
      ]
     },
     "execution_count": 46,
     "metadata": {},
     "output_type": "execute_result"
    }
   ],
   "source": [
    "## Casos con datos faltantes \n",
    "y.loc[u, 'Sepal_Length'] = np.nan\n",
    "y"
   ]
  },
  {
   "cell_type": "code",
   "execution_count": 47,
   "metadata": {
    "scrolled": false
   },
   "outputs": [
    {
     "data": {
      "text/plain": [
       "     Sepal_Length  Sepal_Width  Petal_Length  Petal_Width     Species\n",
       "145           6.7          3.0           5.2          2.3   virginica\n",
       "146           6.3          2.5           5.0          1.9   virginica\n",
       "147           6.5          3.0           5.2          2.0   virginica\n",
       "148           6.2          3.4           5.4          2.3   virginica\n",
       "149           5.9          3.0           5.1          1.8   virginica\n",
       "150           NaN          3.1           5.6          2.4   virginica\n",
       "151           5.0          2.3           3.3          1.0  versicolor\n",
       "152           NaN          3.4           1.6          0.4      setosa\n",
       "153           NaN          3.1           1.6          0.2      setosa\n",
       "154           NaN          2.9           5.6          1.8   virginica\n",
       "155           4.9          3.1           1.5          0.1      setosa\n",
       "156           NaN          2.2           4.5          1.5  versicolor\n",
       "157           5.7          3.8           1.7          0.3      setosa\n",
       "158           5.9          3.0           5.1          1.8   virginica\n",
       "159           5.5          2.5           4.0          1.3  versicolor\n",
       "160           5.4          3.9           1.7          0.4      setosa\n",
       "161           NaN          3.0           1.4          0.2      setosa\n",
       "162           5.4          3.4           1.5          0.4      setosa\n",
       "163           NaN          2.7           4.2          1.3  versicolor\n",
       "164           6.4          2.9           4.3          1.3  versicolor\n",
       "165           NaN          2.3           4.4          1.3  versicolor\n",
       "166           NaN          2.6           4.4          1.2  versicolor\n",
       "167           6.7          3.3           5.7          2.1   virginica\n",
       "168           NaN          2.9           4.7          1.4  versicolor\n",
       "169           5.2          3.4           1.4          0.2      setosa"
      ]
     },
     "execution_count": 47,
     "metadata": {},
     "output_type": "execute_result"
    }
   ],
   "source": [
    "## apilado de dataframes \n",
    "## los casos 151 a 170 contienen casos duplicados o\n",
    "## casos con datos faltantes\n",
    "w = pandas.concat([x, y])\n",
    "w.index = list(range(170))\n",
    "w.tail(25)"
   ]
  },
  {
   "cell_type": "code",
   "execution_count": 48,
   "metadata": {},
   "outputs": [
    {
     "data": {
      "text/plain": [
       "     Sepal_Length  Sepal_Width  Petal_Length  Petal_Width     Species\n",
       "142           5.8          2.7           5.1          1.9   virginica\n",
       "151           5.0          2.3           3.3          1.0  versicolor\n",
       "155           4.9          3.1           1.5          0.1      setosa\n",
       "157           5.7          3.8           1.7          0.3      setosa\n",
       "158           5.9          3.0           5.1          1.8   virginica\n",
       "159           5.5          2.5           4.0          1.3  versicolor\n",
       "160           5.4          3.9           1.7          0.4      setosa\n",
       "162           5.4          3.4           1.5          0.4      setosa\n",
       "164           6.4          2.9           4.3          1.3  versicolor\n",
       "167           6.7          3.3           5.7          2.1   virginica\n",
       "169           5.2          3.4           1.4          0.2      setosa"
      ]
     },
     "execution_count": 48,
     "metadata": {},
     "output_type": "execute_result"
    }
   ],
   "source": [
    "## casos duplicados\n",
    "## note que el caso 142 aparece duplicado\n",
    "w[w.duplicated()]"
   ]
  },
  {
   "cell_type": "code",
   "execution_count": 49,
   "metadata": {
    "scrolled": false
   },
   "outputs": [
    {
     "data": {
      "text/plain": [
       "     Sepal_Length  Sepal_Width  Petal_Length  Petal_Width     Species\n",
       "139           6.9          3.1           5.4          2.1   virginica\n",
       "140           6.7          3.1           5.6          2.4   virginica\n",
       "141           6.9          3.1           5.1          2.3   virginica\n",
       "143           6.8          3.2           5.9          2.3   virginica\n",
       "144           6.7          3.3           5.7          2.5   virginica\n",
       "145           6.7          3.0           5.2          2.3   virginica\n",
       "146           6.3          2.5           5.0          1.9   virginica\n",
       "147           6.5          3.0           5.2          2.0   virginica\n",
       "148           6.2          3.4           5.4          2.3   virginica\n",
       "149           5.9          3.0           5.1          1.8   virginica\n",
       "150           NaN          3.1           5.6          2.4   virginica\n",
       "152           NaN          3.4           1.6          0.4      setosa\n",
       "153           NaN          3.1           1.6          0.2      setosa\n",
       "154           NaN          2.9           5.6          1.8   virginica\n",
       "156           NaN          2.2           4.5          1.5  versicolor\n",
       "161           NaN          3.0           1.4          0.2      setosa\n",
       "163           NaN          2.7           4.2          1.3  versicolor\n",
       "165           NaN          2.3           4.4          1.3  versicolor\n",
       "166           NaN          2.6           4.4          1.2  versicolor\n",
       "168           NaN          2.9           4.7          1.4  versicolor"
      ]
     },
     "execution_count": 49,
     "metadata": {},
     "output_type": "execute_result"
    }
   ],
   "source": [
    "## Se eliminan los datos duplicados\n",
    "## note que se eliminaron varios casos entre el 151 y el 170\n",
    "w.drop_duplicates().tail(20)"
   ]
  },
  {
   "cell_type": "code",
   "execution_count": 50,
   "metadata": {},
   "outputs": [
    {
     "data": {
      "text/plain": [
       "160    False\n",
       "161     True\n",
       "162    False\n",
       "163     True\n",
       "164    False\n",
       "165     True\n",
       "166     True\n",
       "167    False\n",
       "168     True\n",
       "169    False\n",
       "Name: Sepal_Length, dtype: bool"
      ]
     },
     "execution_count": 50,
     "metadata": {},
     "output_type": "execute_result"
    }
   ],
   "source": [
    "## Se detectan los datos nulos \n",
    "w['Sepal_Length'].isnull().tail(10)"
   ]
  },
  {
   "cell_type": "code",
   "execution_count": 51,
   "metadata": {},
   "outputs": [
    {
     "data": {
      "text/plain": [
       "     Sepal_Length  Sepal_Width  Petal_Length  Petal_Width     Species\n",
       "150           NaN          3.1           5.6          2.4   virginica\n",
       "152           NaN          3.4           1.6          0.4      setosa\n",
       "153           NaN          3.1           1.6          0.2      setosa\n",
       "154           NaN          2.9           5.6          1.8   virginica\n",
       "156           NaN          2.2           4.5          1.5  versicolor\n",
       "161           NaN          3.0           1.4          0.2      setosa\n",
       "163           NaN          2.7           4.2          1.3  versicolor\n",
       "165           NaN          2.3           4.4          1.3  versicolor\n",
       "166           NaN          2.6           4.4          1.2  versicolor\n",
       "168           NaN          2.9           4.7          1.4  versicolor"
      ]
     },
     "execution_count": 51,
     "metadata": {},
     "output_type": "execute_result"
    }
   ],
   "source": [
    "## se deben utilizar operadoreslógicos para considerar más columnas\n",
    "w[w['Sepal_Length'].isnull()]"
   ]
  },
  {
   "cell_type": "code",
   "execution_count": 52,
   "metadata": {},
   "outputs": [
    {
     "data": {
      "text/plain": [
       "     Sepal_Length  Sepal_Width  Petal_Length  Petal_Width     Species\n",
       "140           6.7          3.1           5.6          2.4   virginica\n",
       "141           6.9          3.1           5.1          2.3   virginica\n",
       "142           5.8          2.7           5.1          1.9   virginica\n",
       "143           6.8          3.2           5.9          2.3   virginica\n",
       "144           6.7          3.3           5.7          2.5   virginica\n",
       "145           6.7          3.0           5.2          2.3   virginica\n",
       "146           6.3          2.5           5.0          1.9   virginica\n",
       "147           6.5          3.0           5.2          2.0   virginica\n",
       "148           6.2          3.4           5.4          2.3   virginica\n",
       "149           5.9          3.0           5.1          1.8   virginica\n",
       "151           5.0          2.3           3.3          1.0  versicolor\n",
       "155           4.9          3.1           1.5          0.1      setosa\n",
       "157           5.7          3.8           1.7          0.3      setosa\n",
       "158           5.9          3.0           5.1          1.8   virginica\n",
       "159           5.5          2.5           4.0          1.3  versicolor\n",
       "160           5.4          3.9           1.7          0.4      setosa\n",
       "162           5.4          3.4           1.5          0.4      setosa\n",
       "164           6.4          2.9           4.3          1.3  versicolor\n",
       "167           6.7          3.3           5.7          2.1   virginica\n",
       "169           5.2          3.4           1.4          0.2      setosa"
      ]
     },
     "execution_count": 52,
     "metadata": {},
     "output_type": "execute_result"
    }
   ],
   "source": [
    "## Se eleminan los casos con datos nulos. \n",
    "w.dropna().tail(20)"
   ]
  },
  {
   "cell_type": "markdown",
   "metadata": {},
   "source": [
    "# Estadísticos descriptivos"
   ]
  },
  {
   "cell_type": "code",
   "execution_count": 53,
   "metadata": {},
   "outputs": [
    {
     "name": "stdout",
     "output_type": "stream",
     "text": [
      "       Sepal_Length  Sepal_Width  Petal_Length  Petal_Width\n",
      "count    150.000000   150.000000    150.000000   150.000000\n",
      "mean       5.843333     3.057333      3.758000     1.199333\n",
      "std        0.828066     0.435866      1.765298     0.762238\n",
      "min        4.300000     2.000000      1.000000     0.100000\n",
      "25%        5.100000     2.800000      1.600000     0.300000\n",
      "50%        5.800000     3.000000      4.350000     1.300000\n",
      "75%        6.400000     3.300000      5.100000     1.800000\n",
      "max        7.900000     4.400000      6.900000     2.500000\n"
     ]
    }
   ],
   "source": [
    "## resumen de estadísticos descriptivos\n",
    "print(x.describe())"
   ]
  },
  {
   "cell_type": "code",
   "execution_count": 54,
   "metadata": {
    "scrolled": true
   },
   "outputs": [
    {
     "data": {
      "text/plain": [
       "Sepal_Length    5.843333\n",
       "Sepal_Width     3.057333\n",
       "Petal_Length    3.758000\n",
       "Petal_Width     1.199333\n",
       "dtype: float64"
      ]
     },
     "execution_count": 54,
     "metadata": {},
     "output_type": "execute_result"
    }
   ],
   "source": [
    "## Se halla la media\n",
    "x.mean()"
   ]
  },
  {
   "cell_type": "code",
   "execution_count": 55,
   "metadata": {
    "scrolled": true
   },
   "outputs": [
    {
     "data": {
      "text/plain": [
       "0    2.550\n",
       "1    2.375\n",
       "2    2.350\n",
       "3    2.350\n",
       "4    2.550\n",
       "dtype: float64"
      ]
     },
     "execution_count": 55,
     "metadata": {},
     "output_type": "execute_result"
    }
   ],
   "source": [
    "x.mean(1).head()"
   ]
  },
  {
   "cell_type": "markdown",
   "metadata": {},
   "source": [
    "# Paneles de DataFrames"
   ]
  },
  {
   "cell_type": "code",
   "execution_count": 56,
   "metadata": {},
   "outputs": [],
   "source": [
    "## se crean los DataFrames\n",
    "df1 = pandas.DataFrame({'colA': [1, 2],\n",
    "                        'colB': [3, 4]})\n",
    "\n",
    "df2 = pandas.DataFrame({'colB': [5, 6],\n",
    "                      '  colC': [7, 8]})\n",
    "\n",
    "df3 = pandas.DataFrame({'colC': [9, 0],\n",
    "                      '  colD': [1, 2]})"
   ]
  },
  {
   "cell_type": "code",
   "execution_count": 57,
   "metadata": {},
   "outputs": [
    {
     "name": "stdout",
     "output_type": "stream",
     "text": [
      "{'df1':    colA  colB\n",
      "0     1     3\n",
      "1     2     4, 'df2':    colB    colC\n",
      "0     5       7\n",
      "1     6       8, 'df3':    colC    colD\n",
      "0     9       1\n",
      "1     0       2}\n"
     ]
    }
   ],
   "source": [
    "## creación del panel como un diccionario\n",
    "pdPanel = { 'df1': df1,\n",
    "            'df2': df2,\n",
    "            'df3': df3}\n",
    "print(pdPanel)"
   ]
  },
  {
   "cell_type": "markdown",
   "metadata": {},
   "source": [
    "---"
   ]
  },
  {
   "cell_type": "markdown",
   "metadata": {},
   "source": [
    "Pandas\n",
    "===\n",
    "\n",
    "**Juan David Velásquez Henao**  \n",
    "jdvelasq@unal.edu.co   \n",
    "Universidad Nacional de Colombia, Sede Medellín  \n",
    "Facultad de Minas  \n",
    "Medellín, Colombia\n",
    "\n",
    "---\n",
    "\n",
    "Haga click [aquí](https://github.com/jdvelasq/Python-for-ETL-processes/tree/master/) para acceder al repositorio online.\n",
    "\n",
    "Haga click [aquí](http://nbviewer.jupyter.org/github/jdvelasq/Python-for-ETL-processes/tree/master/) para explorar el repositorio usando `nbviewer`. "
   ]
  }
 ],
 "metadata": {
  "anaconda-cloud": {},
  "kernel_info": {
   "name": "python3"
  },
  "kernelspec": {
   "display_name": "Python 3",
   "language": "python",
   "name": "python3"
  },
  "language_info": {
   "codemirror_mode": {
    "name": "ipython",
    "version": 3
   },
   "file_extension": ".py",
   "mimetype": "text/x-python",
   "name": "python",
   "nbconvert_exporter": "python",
   "pygments_lexer": "ipython3",
   "version": "3.6.5"
  },
  "nteract": {
   "version": "0.7.1"
  }
 },
 "nbformat": 4,
 "nbformat_minor": 2
}
