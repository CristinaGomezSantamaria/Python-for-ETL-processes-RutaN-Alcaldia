{
 "cells": [
  {
   "cell_type": "markdown",
   "metadata": {},
   "source": [
    "Taller\n",
    "===\n",
    "\n",
    "**Juan David Velásquez Henao**  \n",
    "jdvelasq@unal.edu.co   \n",
    "Universidad Nacional de Colombia, Sede Medellín  \n",
    "Facultad de Minas  \n",
    "Medellín, Colombia\n",
    "\n",
    "---\n",
    "\n",
    "Haga click [aquí](https://github.com/jdvelasq/Python-for-ETL-processes/tree/master/) para acceder al repositorio online.\n",
    "\n",
    "Haga click [aquí](http://nbviewer.jupyter.org/github/jdvelasq/Python-for-ETL-processes/tree/master/) para explorar el repositorio usando `nbviewer`. "
   ]
  },
  {
   "cell_type": "markdown",
   "metadata": {},
   "source": [
    "---"
   ]
  },
  {
   "cell_type": "markdown",
   "metadata": {},
   "source": [
    "Este directorio `/files/06/` contiene la información de cuatro (4) estaciones automáticas de medición de viento. Se desear realizar un proceso de transformación de los datos con el fin de producir la información requerida para construir un atlas eólico de la región. A continuación se presentan los requerimientos solicitados y su respectiva solución."
   ]
  },
  {
   "cell_type": "markdown",
   "metadata": {},
   "source": [
    "**Requerimiento 1.--** Generar una tabla unificada que contenga las siguientes columnas:\n",
    "\n",
    "* Nombre de la estación.\n",
    "* Fecha en el formato YYYY-MM-DD.\n",
    "* Año.\n",
    "* Mes.\n",
    "* Dia.\n",
    "* HHMMSS.\n",
    "* Hora (HH).\n",
    "* Minuto (MM).\n",
    "* Dirección.\n",
    "* Velocidad."
   ]
  },
  {
   "cell_type": "code",
   "execution_count": null,
   "metadata": {},
   "outputs": [],
   "source": [
    "## para resolver en clase"
   ]
  },
  {
   "cell_type": "markdown",
   "metadata": {},
   "source": [
    "**Requerimiento 2.--** Generar una tabla unificada que contenga las siguientes columnas:\n",
    "\n",
    "* Nombre de la estación.\n",
    "* Año.\n",
    "* Mes.\n",
    "* Dia.\n",
    "* Hora.\n",
    "* Velocidad media del viento para la correspodiente hora."
   ]
  },
  {
   "cell_type": "code",
   "execution_count": null,
   "metadata": {},
   "outputs": [],
   "source": [
    "## para resolver en clase"
   ]
  },
  {
   "cell_type": "markdown",
   "metadata": {},
   "source": [
    "**Requerimiento 3.--** Generar una tabla que contenga las siguientes columnas:\n",
    "\n",
    "* Estación.\n",
    "* Año.\n",
    "* Mes.\n",
    "* Velocidad media del viento para ese mes y ese año."
   ]
  },
  {
   "cell_type": "code",
   "execution_count": null,
   "metadata": {},
   "outputs": [],
   "source": [
    "## para resolver en clase"
   ]
  },
  {
   "cell_type": "markdown",
   "metadata": {},
   "source": [
    "**Requerimiento 4.--** Generar una tabla que contenga las siguientes columnas:\n",
    "\n",
    "* Estación.\n",
    "* Año.\n",
    "* Velocidad media para dicho año."
   ]
  },
  {
   "cell_type": "code",
   "execution_count": null,
   "metadata": {},
   "outputs": [],
   "source": [
    "## para resolver en clase"
   ]
  },
  {
   "cell_type": "markdown",
   "metadata": {},
   "source": [
    "**Requerimiento 5.--** Generar una tabla que contenga las siguientes columnas:\n",
    "\n",
    "* Estación.\n",
    "* Mes.\n",
    "* Velocidad media para ese mes calculada sobre todos los datos."
   ]
  },
  {
   "cell_type": "code",
   "execution_count": null,
   "metadata": {},
   "outputs": [],
   "source": [
    "## para resolver en clase"
   ]
  },
  {
   "cell_type": "markdown",
   "metadata": {},
   "source": [
    "**Requerimiento 6.--** Generar una tabla que contenga las siguientes columnas:\n",
    "\n",
    "* Estación.\n",
    "* Hora.\n",
    "* Velocidad media para ese hora calculada sobre todos los datos."
   ]
  },
  {
   "cell_type": "code",
   "execution_count": null,
   "metadata": {},
   "outputs": [],
   "source": [
    "## para resolver en clase"
   ]
  },
  {
   "cell_type": "markdown",
   "metadata": {},
   "source": [
    "**Requerimiento 7.--** Generar una tabla que contenga las siguientes columnas:\n",
    "\n",
    "* Estación.\n",
    "* Mes (MM).\n",
    "* Hora (HH).\n",
    "* Velocidad media para ese mes y esa hora calculada sobre todos los datos."
   ]
  },
  {
   "cell_type": "code",
   "execution_count": null,
   "metadata": {},
   "outputs": [],
   "source": [
    "## para resolver en clase"
   ]
  },
  {
   "cell_type": "markdown",
   "metadata": {},
   "source": [
    "---"
   ]
  }
 ],
 "metadata": {
  "kernelspec": {
   "display_name": "Python 3",
   "language": "python",
   "name": "python3"
  },
  "language_info": {
   "codemirror_mode": {
    "name": "ipython",
    "version": 3
   },
   "file_extension": ".py",
   "mimetype": "text/x-python",
   "name": "python",
   "nbconvert_exporter": "python",
   "pygments_lexer": "ipython3",
   "version": "3.6.5"
  }
 },
 "nbformat": 4,
 "nbformat_minor": 2
}
