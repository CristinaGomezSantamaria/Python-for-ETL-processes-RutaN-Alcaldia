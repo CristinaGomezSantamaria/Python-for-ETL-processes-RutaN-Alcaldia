{
 "cells": [
  {
   "cell_type": "markdown",
   "metadata": {},
   "source": [
    "# Actividad evaluativa\n",
    "## Curso corto en tratamiento y visualización de datos para funcionarios de la Alcaldía de Medellín\n",
    "\n",
    "\n",
    "**Juan David Velásquez Henao**  \n",
    "jdvelasq@unal.edu.co   \n",
    "**Valentina Vásquez Hernandez**  \n",
    "vavasquezhe@unal.edu.co   \n",
    "\n",
    "Universidad Nacional de Colombia, Sede Medellín  \n",
    "Facultad de Minas  \n",
    "Medellín, Colombia\n",
    "\n",
    "---"
   ]
  },
  {
   "cell_type": "markdown",
   "metadata": {},
   "source": [
    "## Contexto\n",
    "Los archivos contenidos en el directorio `files/rutan` contienen información sobre los gastos incurridos por cada candidato presidenciale en Estados Unidos durante la campaña presidencial del año 2016. Las variables consideradas son:\n",
    "\n",
    "* `cmte_id`: Se refiere a la identificación del comité de dinero el cual financió el gasto.\n",
    "* `cand_id`: Identificación del candidato. \n",
    "* `cand_nm`: Nombre del candidato.\n",
    "* `Party`: Partido político al cual pertenece el candidato.\n",
    "* `recipient_nm`: Recinto donde se registra el gasto.\n",
    "* `disb_amt`: Monto de gasto en USD.\n",
    "* `disb_dt`: Fecha del gasto.\n",
    "* `recipient_st`: Estado en que registró el gasto.\n",
    "* `recipient_city`: Ciudad en que se registró el gasto.\n",
    "* `recipient_zip`: Código postal.\n",
    "* `disb_desc`: Rubro de gasto.\n",
    "* `form_tp`: Tipo de formato utilizado para entregar la información.\n",
    "* `file_num`: Identificador de archivo para el registro.\n",
    "* `tran_id`: Identificador de la transacción.\n",
    "* `form_tp`: Tipo de formato utilizado para entregar la información.\n",
    "---"
   ]
  },
  {
   "cell_type": "markdown",
   "metadata": {},
   "source": [
    "De acuerdo con los archivos en cuestión, responda las siguientes preguntas:"
   ]
  },
  {
   "cell_type": "markdown",
   "metadata": {},
   "source": [
    "**Pregunta 1.** ¿Cuántos registros tiene cada archivo?"
   ]
  },
  {
   "cell_type": "code",
   "execution_count": null,
   "metadata": {},
   "outputs": [],
   "source": []
  },
  {
   "cell_type": "markdown",
   "metadata": {},
   "source": [
    "**Pregunta 2.** Extraiga los datos de cada archivo y genere una única tabla concatenando todos los registros."
   ]
  },
  {
   "cell_type": "code",
   "execution_count": null,
   "metadata": {},
   "outputs": [],
   "source": []
  },
  {
   "cell_type": "markdown",
   "metadata": {},
   "source": [
    "**Pregunta 3.** Exporte la tabla resultado de la `pregunta 2.` en un archivo .csv y nómbrelo como `presidential.csv`."
   ]
  },
  {
   "cell_type": "code",
   "execution_count": null,
   "metadata": {},
   "outputs": [],
   "source": []
  },
  {
   "cell_type": "markdown",
   "metadata": {},
   "source": [
    "**Pregunta 4.** Elimine las columnas que no aportan información relevante como *memo_cd*, *memo_text*, *form_tp*, *file_num*, *train_id*, *election_tp* y *Party* (en este caso es una columna con datos corruptos)."
   ]
  },
  {
   "cell_type": "code",
   "execution_count": null,
   "metadata": {},
   "outputs": [],
   "source": []
  },
  {
   "cell_type": "markdown",
   "metadata": {},
   "source": [
    "**Pregunta 5.** ¿Cuántos registros se encuentran duplicados?"
   ]
  },
  {
   "cell_type": "code",
   "execution_count": null,
   "metadata": {},
   "outputs": [],
   "source": []
  },
  {
   "cell_type": "markdown",
   "metadata": {},
   "source": [
    "**Pregunta 6.** ¿Cuántos registros contienen datos faltantes o nulos?"
   ]
  },
  {
   "cell_type": "code",
   "execution_count": null,
   "metadata": {},
   "outputs": [],
   "source": []
  },
  {
   "cell_type": "markdown",
   "metadata": {},
   "source": [
    "**Pregunta 7.** Elimine los registros duplicados y nulos. ¿Cuántos registros quedan en la tabla?"
   ]
  },
  {
   "cell_type": "code",
   "execution_count": null,
   "metadata": {},
   "outputs": [],
   "source": []
  },
  {
   "cell_type": "markdown",
   "metadata": {},
   "source": [
    "**Pregunta 8.** Establezca la fecha de registro del gasto en formato `YYYY-MM-DD`."
   ]
  },
  {
   "cell_type": "code",
   "execution_count": null,
   "metadata": {},
   "outputs": [],
   "source": []
  },
  {
   "cell_type": "markdown",
   "metadata": {},
   "source": [
    "**Pregunta 9.** ¿Quienes fueron los candidatos presidenciales para las elecciones de 2016 en Estados Unidos?"
   ]
  },
  {
   "cell_type": "code",
   "execution_count": null,
   "metadata": {},
   "outputs": [],
   "source": []
  },
  {
   "cell_type": "markdown",
   "metadata": {},
   "source": [
    "**Pregunta 10.** Genere una tabla que muestre cúanto fue el gasto de cada candidato para cada mes en cada año de campaña. La nueva tabla tendría como estructura `cand_nm`, `date`, `total`."
   ]
  },
  {
   "cell_type": "code",
   "execution_count": null,
   "metadata": {},
   "outputs": [],
   "source": []
  },
  {
   "cell_type": "markdown",
   "metadata": {},
   "source": [
    "**Pregunta 11.** Genere una tabla que muestre el total de gasto que se generó en cada establecimiento por candidato, es decir, cuanto gasto hubo por candidato por establecimiento. La nueva tabla tendría como estructura `cand_nm`, `recipient_nm`, `total`."
   ]
  },
  {
   "cell_type": "code",
   "execution_count": null,
   "metadata": {},
   "outputs": [],
   "source": []
  },
  {
   "cell_type": "markdown",
   "metadata": {},
   "source": [
    "**Pregunta 12.** Genere una tabla que contenga el rubro con mayor gasto y los 5 establecimientos de dicho rubro que tuvieron mayor participación, por candidato."
   ]
  },
  {
   "cell_type": "code",
   "execution_count": null,
   "metadata": {},
   "outputs": [],
   "source": []
  },
  {
   "cell_type": "markdown",
   "metadata": {},
   "source": [
    "**Pregunta 13.** ¿Cuál fueron las 3 ciudades por estado en donde se generó el mayor gasto?"
   ]
  },
  {
   "cell_type": "code",
   "execution_count": null,
   "metadata": {},
   "outputs": [],
   "source": []
  },
  {
   "cell_type": "markdown",
   "metadata": {},
   "source": [
    "**Pregunta 14.** Construya un gráfico de caja y bigotes para cada candidato. ¿Qué se puede decir de Donald Trump y Hillary Clinton?"
   ]
  },
  {
   "cell_type": "code",
   "execution_count": null,
   "metadata": {},
   "outputs": [],
   "source": []
  },
  {
   "cell_type": "markdown",
   "metadata": {},
   "source": [
    "**Pregunta 15.** Construya un histograma que muestre en que meses de que año se produjo el máximo del gasto."
   ]
  },
  {
   "cell_type": "code",
   "execution_count": null,
   "metadata": {},
   "outputs": [],
   "source": []
  },
  {
   "cell_type": "markdown",
   "metadata": {},
   "source": [
    "**Pregunta 16.** Construya un gráfico que muestre la evolución de la tendencia en el gasto de los candidatos."
   ]
  },
  {
   "cell_type": "code",
   "execution_count": null,
   "metadata": {},
   "outputs": [],
   "source": []
  },
  {
   "cell_type": "markdown",
   "metadata": {},
   "source": [
    "**Pregunta 17.** Construya un gráfico circular que muestre la participación de cada candidato en el gasto total de las campañas presidenciales."
   ]
  },
  {
   "cell_type": "code",
   "execution_count": null,
   "metadata": {},
   "outputs": [],
   "source": []
  },
  {
   "cell_type": "markdown",
   "metadata": {},
   "source": [
    "**Pregunta 18.** Realice un mapa de calor que muestre el gasto de los candidatos en cada uno de los estados y ciudades de Estados Unidos."
   ]
  },
  {
   "cell_type": "code",
   "execution_count": null,
   "metadata": {},
   "outputs": [],
   "source": []
  },
  {
   "cell_type": "markdown",
   "metadata": {},
   "source": [
    "---\n",
    "# Actividad evaluativa\n",
    "## Curso corto en tratamiento y visualización de datos para funcionarios de la Alcaldía de Medellín\n",
    "\n",
    "\n",
    "**Juan David Velásquez Henao**  \n",
    "jdvelasq@unal.edu.co   \n",
    "**Valentina Vásquez Hernandez**  \n",
    "vavasquezhe@unal.edu.co   \n",
    "\n",
    "Universidad Nacional de Colombia, Sede Medellín  \n",
    "Facultad de Minas  \n",
    "Medellín, Colombia"
   ]
  }
 ],
 "metadata": {
  "kernelspec": {
   "display_name": "Python 3",
   "language": "python",
   "name": "python3"
  },
  "language_info": {
   "codemirror_mode": {
    "name": "ipython",
    "version": 3
   },
   "file_extension": ".py",
   "mimetype": "text/x-python",
   "name": "python",
   "nbconvert_exporter": "python",
   "pygments_lexer": "ipython3",
   "version": "3.6.5"
  }
 },
 "nbformat": 4,
 "nbformat_minor": 2
}
